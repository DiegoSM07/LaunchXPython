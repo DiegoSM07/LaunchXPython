{
 "cells": [
  {
   "cell_type": "markdown",
   "metadata": {},
   "source": [
    "velocidad del asteroide "
   ]
  },
  {
   "cell_type": "code",
   "execution_count": 31,
   "metadata": {},
   "outputs": [
    {
     "name": "stdout",
     "output_type": "stream",
     "text": [
      "Advertencia se aproxima un meteorito\n",
      "A una veocidad de: 49 km/s\n"
     ]
    }
   ],
   "source": [
    "velocidad = 49\n",
    "if velocidad >= 25:\n",
    "    print(\"Advertencia se aproxima un meteorito\")\n",
    "    print(\"A una veocidad de: \" + str(velocidad) + \" km/s\")\n",
    "else:\n",
    "    print(\"Estamos fuera de peligro\")"
   ]
  },
  {
   "cell_type": "code",
   "execution_count": 32,
   "metadata": {},
   "outputs": [
    {
     "name": "stdout",
     "output_type": "stream",
     "text": [
      "Alerta un asteroide se aproxima!!\n",
      "Y podran observa una hermosa luz en el cielo\n"
     ]
    }
   ],
   "source": [
    "velocidad = 19\n",
    "if velocidad > 20:\n",
    "    print(\"Se aproxima un asteroide a una velocidad superior a los 20 km/s\")\n",
    "elif velocidad >= 15 or velocidad >= 20:\n",
    "    print(\"Alerta un asteroide se aproxima!!\")\n",
    "    print(\"Y podran observa una hermosa luz en el cielo\")\n",
    "else:\n",
    "    print(\"Estamos fuera de peligro\")"
   ]
  },
  {
   "cell_type": "code",
   "execution_count": 33,
   "metadata": {},
   "outputs": [
    {
     "name": "stdout",
     "output_type": "stream",
     "text": [
      "Alerta un asteroide muy peligroso viene a la tierra\n"
     ]
    }
   ],
   "source": [
    "velocidad = 25\n",
    "tamano = 40\n",
    "if velocidad >= 25 and tamano > 25:\n",
    "    print(\"Alerta un asteroide muy peligroso viene a la tierra\")\n",
    "elif velocidad <=20 or velocidad >= 18:\n",
    "    print(\"Wuacha el cielo, podras observar algo hermoso\")\n",
    "elif tamano < 25:\n",
    "    print(\"Fuera de peligro\")\n",
    "else:\n",
    "    print(\"Fuera de peligro\")"
   ]
  }
 ],
 "metadata": {
  "interpreter": {
   "hash": "5208ece860cd8f659edbc8d402425989a1be8cb2cbdc0b946175eff23c10f70c"
  },
  "kernelspec": {
   "display_name": "Python 3.10.2 64-bit",
   "language": "python",
   "name": "python3"
  },
  "language_info": {
   "codemirror_mode": {
    "name": "ipython",
    "version": 3
   },
   "file_extension": ".py",
   "mimetype": "text/x-python",
   "name": "python",
   "nbconvert_exporter": "python",
   "pygments_lexer": "ipython3",
   "version": "3.10.2"
  },
  "orig_nbformat": 4
 },
 "nbformat": 4,
 "nbformat_minor": 2
}
