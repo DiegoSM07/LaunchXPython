{
 "cells": [
  {
   "cell_type": "code",
   "execution_count": 22,
   "metadata": {},
   "outputs": [
    {
     "data": {
      "text/plain": [
       "'The Moon has no atmosphere.No sound can be heard on the Moon.'"
      ]
     },
     "execution_count": 22,
     "metadata": {},
     "output_type": "execute_result"
    }
   ],
   "source": [
    "fact = 'The Moon has no atmosphere.'\n",
    "fact + 'No sound can be heard on the Moon.'\n"
   ]
  },
  {
   "cell_type": "code",
   "execution_count": 23,
   "metadata": {},
   "outputs": [
    {
     "data": {
      "text/plain": [
       "'The Moon has no atmosphere.No sound can be heard on the Moon.'"
      ]
     },
     "execution_count": 23,
     "metadata": {},
     "output_type": "execute_result"
    }
   ],
   "source": [
    "two_facts = fact + 'No sound can be heard on the Moon.'\n",
    "two_facts"
   ]
  },
  {
   "cell_type": "code",
   "execution_count": 24,
   "metadata": {},
   "outputs": [
    {
     "data": {
      "text/plain": [
       "\"We only see about 60% of the Moon's surface\""
      ]
     },
     "execution_count": 24,
     "metadata": {},
     "output_type": "execute_result"
    }
   ],
   "source": [
    "moon_radius = \"The Moon has a radius of 1,080 miles\"\n",
    "\"We only see about 60% of the Moon's surface\"\n",
    "#\"\"\"We only see about 60% of the Moon's surface, this is known as the \"near side\".\"\"\""
   ]
  },
  {
   "cell_type": "code",
   "execution_count": 25,
   "metadata": {},
   "outputs": [
    {
     "name": "stdout",
     "output_type": "stream",
     "text": [
      "Facts about the Moon:\n",
      " There is no atmosphere.\n",
      " There is no sound.\n"
     ]
    }
   ],
   "source": [
    "multiline = \"Facts about the Moon:\\n There is no atmosphere.\\n There is no sound.\"\n",
    "print(multiline)"
   ]
  },
  {
   "cell_type": "code",
   "execution_count": 26,
   "metadata": {},
   "outputs": [
    {
     "name": "stdout",
     "output_type": "stream",
     "text": [
      "Facts about the Moon:\n",
      " There is no atmosphere.\n",
      " There is no sound.\n"
     ]
    }
   ],
   "source": [
    "multiline = \"\"\"Facts about the Moon:\n",
    "...  There is no atmosphere.\n",
    "...  There is no sound.\"\"\"\n",
    "print(multiline)"
   ]
  },
  {
   "cell_type": "markdown",
   "metadata": {},
   "source": [
    "metodos string en python"
   ]
  },
  {
   "cell_type": "code",
   "execution_count": 27,
   "metadata": {},
   "outputs": [
    {
     "data": {
      "text/plain": [
       "'Temperatures And Facts About The Moon'"
      ]
     },
     "execution_count": 27,
     "metadata": {},
     "output_type": "execute_result"
    }
   ],
   "source": [
    "'temperatures and facts about the moon'.title()"
   ]
  },
  {
   "cell_type": "code",
   "execution_count": 28,
   "metadata": {},
   "outputs": [
    {
     "data": {
      "text/plain": [
       "'Temperatures And Facts About The Moon'"
      ]
     },
     "execution_count": 28,
     "metadata": {},
     "output_type": "execute_result"
    }
   ],
   "source": [
    "heading = 'temperatures and facts about the moon'\n",
    "heading.title()"
   ]
  },
  {
   "cell_type": "markdown",
   "metadata": {},
   "source": [
    "Dividir cadena"
   ]
  },
  {
   "cell_type": "code",
   "execution_count": 29,
   "metadata": {},
   "outputs": [
    {
     "data": {
      "text/plain": [
       "['Daylight:', '260', 'F...', 'Nighttime:', '-280', 'F']"
      ]
     },
     "execution_count": 29,
     "metadata": {},
     "output_type": "execute_result"
    }
   ],
   "source": [
    "temperatures = '''Daylight: 260 F... Nighttime: -280 F'''\n",
    "temperatures .split()"
   ]
  },
  {
   "cell_type": "markdown",
   "metadata": {},
   "source": [
    "Buscar cadenas"
   ]
  },
  {
   "cell_type": "code",
   "execution_count": 30,
   "metadata": {},
   "outputs": [
    {
     "data": {
      "text/plain": [
       "False"
      ]
     },
     "execution_count": 30,
     "metadata": {},
     "output_type": "execute_result"
    }
   ],
   "source": [
    "'Moon' in 'This text will describe facts and challenges with space travel'"
   ]
  },
  {
   "cell_type": "code",
   "execution_count": 31,
   "metadata": {},
   "outputs": [
    {
     "data": {
      "text/plain": [
       "True"
      ]
     },
     "execution_count": 31,
     "metadata": {},
     "output_type": "execute_result"
    }
   ],
   "source": [
    "'Moon' in 'This text will describe facts about the Moon'"
   ]
  }
 ],
 "metadata": {
  "interpreter": {
   "hash": "5208ece860cd8f659edbc8d402425989a1be8cb2cbdc0b946175eff23c10f70c"
  },
  "kernelspec": {
   "display_name": "Python 3.10.2 64-bit",
   "language": "python",
   "name": "python3"
  },
  "language_info": {
   "codemirror_mode": {
    "name": "ipython",
    "version": 3
   },
   "file_extension": ".py",
   "mimetype": "text/x-python",
   "name": "python",
   "nbconvert_exporter": "python",
   "pygments_lexer": "ipython3",
   "version": "3.10.2"
  },
  "orig_nbformat": 4
 },
 "nbformat": 4,
 "nbformat_minor": 2
}
